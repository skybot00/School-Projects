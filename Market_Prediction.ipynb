{
  "cells": [
    {
      "cell_type": "markdown",
      "metadata": {
        "id": "view-in-github",
        "colab_type": "text"
      },
      "source": [
        "<a href=\"https://colab.research.google.com/github/skybot00/skybot00.github.io/blob/main/Market_Prediction.ipynb\" target=\"_parent\"><img src=\"https://colab.research.google.com/assets/colab-badge.svg\" alt=\"Open In Colab\"/></a>"
      ]
    },
    {
      "cell_type": "code",
      "execution_count": null,
      "metadata": {
        "id": "7WLBC2ZMhDKS"
      },
      "outputs": [],
      "source": [
        "import pandas as pd\n",
        "import numpy as np\n",
        "import matplotlib.pyplot as plt\n",
        "from sklearn.preprocessing import StandardScaler\n",
        "from sklearn.ensemble import RandomForestRegressor\n",
        "from sklearn.model_selection import train_test_split, GridSearchCV\n",
        "from sklearn.metrics import mean_absolute_error, mean_squared_error, r2_score\n",
        "\n",
        "#load the dataset\n",
        "data = pd.read_csv('3 Year Market Analysis - Sheet1.csv')\n",
        "\n"
      ]
    },
    {
      "cell_type": "code",
      "execution_count": null,
      "metadata": {
        "colab": {
          "base_uri": "https://localhost:8080/"
        },
        "id": "CPqaRgqihmUF",
        "outputId": "1f7ca9c2-d609-4692-dd5f-826cad47beb2"
      },
      "outputs": [
        {
          "output_type": "stream",
          "name": "stdout",
          "text": [
            "Index(['Company', 'Year', 'Sales/Revenue', 'Sales Growth', 'Gross Income',\n",
            "       'Gross Income Growth', 'Interest Expense', 'Interest Expense Growth',\n",
            "       'Income Tax', 'Net Income', 'Net Income Growth', 'EBITDA',\n",
            "       'EBITDA Growth'],\n",
            "      dtype='object')\n",
            "Unique companies in the dataset ['Exxon' 'Chevron' 'BP' 'Phillip 66']\n"
          ]
        }
      ],
      "source": [
        "print(data.columns)\n",
        "\n",
        "#strip any whitespace from the column names\n",
        "data.columns = data.columns.str.strip()\n",
        "\n",
        "companies = data['Company'].unique()\n",
        "print(\"Unique companies in the dataset\", companies)\n",
        "results = {}"
      ]
    },
    {
      "cell_type": "code",
      "execution_count": null,
      "metadata": {
        "id": "DYPiFsydp3fM"
      },
      "outputs": [],
      "source": [
        "param_grid = {\n",
        "    'n_estimators': [50, 100],\n",
        "    'max_depth': [None, 10],\n",
        "    'min_samples_split': [2, 5],\n",
        "}"
      ]
    },
    {
      "cell_type": "code",
      "execution_count": null,
      "metadata": {
        "id": "PyJ4vLy1p789"
      },
      "outputs": [],
      "source": [
        "def train_best_model(X_train, y_train):\n",
        "    grid_search = GridSearchCV(RandomForestRegressor(), param_grid, cv=5, scoring='neg_mean_squared_error')\n",
        "    grid_search.fit(X_train, y_train)\n",
        "    print(f\"Best Model Parameters: {grid_search.best_estimator_}\")\n",
        "    return grid_search.best_estimator_"
      ]
    },
    {
      "cell_type": "code",
      "source": [
        "for company in companies:\n",
        "    print(f'Processing company: {company}')\n",
        "    company_data = data[data['Company'] == company]\n",
        "\n",
        "#select features for the models\n",
        "features = ['Sales/Revenue', 'Sales Growth', 'Gross Income', 'Interest Expense']\n",
        "x = data[features]"
      ],
      "metadata": {
        "colab": {
          "base_uri": "https://localhost:8080/"
        },
        "id": "0hc_kNXGdqkK",
        "outputId": "85f0fddc-1677-4465-e91d-0af997133686"
      },
      "execution_count": null,
      "outputs": [
        {
          "output_type": "stream",
          "name": "stdout",
          "text": [
            "Processing company: Exxon\n",
            "Processing company: Chevron\n",
            "Processing company: BP\n",
            "Processing company: Phillip 66\n"
          ]
        }
      ]
    },
    {
      "cell_type": "code",
      "execution_count": null,
      "metadata": {
        "colab": {
          "base_uri": "https://localhost:8080/"
        },
        "id": "E14rm9KllLqc",
        "outputId": "271510cb-8766-4069-d08d-9e367dd2e79d"
      },
      "outputs": [
        {
          "output_type": "stream",
          "name": "stdout",
          "text": [
            "   Sales/Revenue  Sales Growth  Gross Income  Interest Expense\n",
            "0   3.337110e+11       -0.1666  8.232600e+10       849000000.0\n",
            "1   4.004380e+11        0.4275  1.034910e+11       798000000.0\n",
            "2   2.805100e+11        0.5744  6.760200e+10       947000000.0\n",
            "3   1.972170e+11       -0.1656  3.692000e+10       469000000.0\n",
            "4   2.363680e+11        0.5124  5.012100e+10       516000000.0\n"
          ]
        }
      ],
      "source": [
        "print(x.head())"
      ]
    },
    {
      "cell_type": "code",
      "execution_count": null,
      "metadata": {
        "id": "nXkL8kAn2-gj"
      },
      "outputs": [],
      "source": [
        "scaler = StandardScaler()\n",
        "x_scaled = scaler.fit_transform(x)"
      ]
    },
    {
      "cell_type": "code",
      "execution_count": null,
      "metadata": {
        "id": "5U6OSVvZlR3i"
      },
      "outputs": [],
      "source": [
        "y_income_tax = data['Income Tax']\n",
        "y_net_income = data['Net Income']\n",
        "y_ebitda = data['EBITDA']"
      ]
    },
    {
      "cell_type": "code",
      "execution_count": null,
      "metadata": {
        "id": "Or-sfcRspbyf"
      },
      "outputs": [],
      "source": [
        "X_train_it, X_test_it, y_train_income_tax, y_test_income_tax = train_test_split(x_scaled, y_income_tax, test_size=0.2, random_state=42)\n",
        "X_train_ni, X_test_ni, y_train_net_income, y_test_net_income = train_test_split(x_scaled, y_net_income, test_size=0.2, random_state=42)\n",
        "X_train_ebitda, X_test_ebitda, y_train_ebitda, y_test_ebitda = train_test_split(x_scaled, y_ebitda, test_size=0.2, random_state=42)"
      ]
    },
    {
      "cell_type": "code",
      "execution_count": null,
      "metadata": {
        "colab": {
          "base_uri": "https://localhost:8080/"
        },
        "id": "bTY3oeHS4BZR",
        "outputId": "eac636fb-aa10-4e24-f618-364fddf315dc"
      },
      "outputs": [
        {
          "output_type": "stream",
          "name": "stdout",
          "text": [
            "Best Model Parameters: RandomForestRegressor()\n",
            "Best Model Parameters: RandomForestRegressor(max_depth=10, n_estimators=50)\n",
            "Best Model Parameters: RandomForestRegressor(max_depth=10, n_estimators=50)\n"
          ]
        }
      ],
      "source": [
        "model_income_tax = train_best_model(X_train_it, y_train_income_tax)\n",
        "model_net_income = train_best_model(X_train_ni, y_train_net_income)\n",
        "model_ebitda = train_best_model(X_train_ebitda, y_train_ebitda)"
      ]
    },
    {
      "cell_type": "markdown",
      "source": [],
      "metadata": {
        "id": "-pHSExLm9Tjk"
      }
    },
    {
      "cell_type": "code",
      "execution_count": null,
      "metadata": {
        "id": "QmEZEAtOuqGT"
      },
      "outputs": [],
      "source": [
        "pred_income_tax = model_income_tax.predict(X_test_it)\n",
        "pred_net_income = model_net_income.predict(X_test_ni)\n",
        "pred_ebitda = model_ebitda.predict(X_test_ebitda)"
      ]
    },
    {
      "cell_type": "code",
      "source": [
        "results[company] = {\n",
        "    'Income Tax': {\n",
        "        'MAE': mean_absolute_error(y_test_income_tax, pred_income_tax),\n",
        "        'MSE': mean_squared_error(y_test_income_tax, pred_income_tax),\n",
        "        'R2': r2_score(y_test_income_tax, pred_income_tax),\n",
        "        'Predictions': [f'{num:.2f}' for num in pred_income_tax[:5]]\n",
        "    },\n",
        "    'Net Income': {\n",
        "        'MAE': mean_absolute_error(y_test_net_income, pred_net_income),\n",
        "        'MSE': mean_squared_error(y_test_net_income, pred_net_income),\n",
        "        'R2': r2_score(y_test_net_income, pred_net_income),\n",
        "        'Predictions': [f'{num:.2f}' for num in pred_income_tax[:5]]\n",
        "    },\n",
        "    'EBITDA': {\n",
        "        'MAE': mean_absolute_error(y_test_ebitda, pred_ebitda),\n",
        "        'MSE': mean_squared_error(y_test_ebitda, pred_ebitda),\n",
        "        'R2': r2_score(y_test_ebitda, pred_ebitda),\n",
        "        'Predictions': [f'{num:.2f}' for num in pred_income_tax[:5]]\n",
        "}\n",
        "}"
      ],
      "metadata": {
        "id": "K4IZ-IVUYrtA"
      },
      "execution_count": null,
      "outputs": []
    },
    {
      "cell_type": "code",
      "source": [
        "for company, metrics in results.items():\n",
        "  print(f\"\\nResults for {company}:\")\n",
        "  for target, values in metrics.items():\n",
        "    print(f\" {target} Evaluation:\")\n",
        "    print(f\" MAE: {values['MAE']:.2f}\")\n",
        "    print(f\" MSE: {values['MSE']:.2f}\")\n",
        "    print(f\" R2: {values['R2']:.2f}\")\n",
        "    print(f\" Predictions: {values['Predictions']}\")"
      ],
      "metadata": {
        "colab": {
          "base_uri": "https://localhost:8080/"
        },
        "id": "1772TMLzCVXW",
        "outputId": "05e65d2a-c7d8-4c90-f852-a8bb5ed05280"
      },
      "execution_count": null,
      "outputs": [
        {
          "output_type": "stream",
          "name": "stdout",
          "text": [
            "\n",
            "Results for Phillip 66:\n",
            " Income Tax Evaluation:\n",
            " MAE: 3199493333.33\n",
            " MSE: 10571168144066666496.00\n",
            " R2: 0.71\n",
            " Predictions: ['5671330000.00', '5594430000.00', '11618280000.00']\n",
            " Net Income Evaluation:\n",
            " MAE: 4156753333.33\n",
            " MSE: 23717608954800001024.00\n",
            " R2: 0.86\n",
            " Predictions: ['5671330000.00', '5594430000.00', '11618280000.00']\n",
            " EBITDA Evaluation:\n",
            " MAE: 11129646666.67\n",
            " MSE: 154338931326266671104.00\n",
            " R2: 0.75\n",
            " Predictions: ['5671330000.00', '5594430000.00', '11618280000.00']\n"
          ]
        }
      ]
    }
  ],
  "metadata": {
    "colab": {
      "provenance": [],
      "authorship_tag": "ABX9TyNm3L+YE/graShg/SVDTtG+",
      "include_colab_link": true
    },
    "kernelspec": {
      "display_name": "Python 3",
      "name": "python3"
    },
    "language_info": {
      "name": "python"
    }
  },
  "nbformat": 4,
  "nbformat_minor": 0
}